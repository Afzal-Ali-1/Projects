{
 "cells": [
  {
   "cell_type": "code",
   "execution_count": 11,
   "metadata": {},
   "outputs": [
    {
     "name": "stdout",
     "output_type": "stream",
     "text": [
      "**********************************************************************************************************************************************************************************************************************************************Welcome to Bank Management System***********************************************************************************************************************************************************************************************************************************************\n",
      "Created by - Afzal Ali\n"
     ]
    }
   ],
   "source": [
    "import time\n",
    "import os\n",
    "def info():\n",
    "    details=\"Welcome to Bank Management System\".center(510,\"*\")\n",
    "    print(details)\n",
    "    print(\"Created by - Afzal Ali\")\n",
    "    time.sleep(4)\n",
    "    os.system(\"cls\")\n",
    "info()"
   ]
  },
  {
   "cell_type": "code",
   "execution_count": null,
   "metadata": {},
   "outputs": [],
   "source": []
  }
 ],
 "metadata": {
  "kernelspec": {
   "display_name": "Python 3",
   "language": "python",
   "name": "python3"
  },
  "language_info": {
   "codemirror_mode": {
    "name": "ipython",
    "version": 3
   },
   "file_extension": ".py",
   "mimetype": "text/x-python",
   "name": "python",
   "nbconvert_exporter": "python",
   "pygments_lexer": "ipython3",
   "version": "3.6.5"
  }
 },
 "nbformat": 4,
 "nbformat_minor": 2
}
