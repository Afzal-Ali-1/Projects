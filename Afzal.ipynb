{
 "cells": [
  {
   "cell_type": "code",
   "execution_count": 1,
   "metadata": {},
   "outputs": [],
   "source": [
    "## store initial data \n",
    "import shelve\n",
    "acc1 = { 'name':'ram','bal':20000,'password':'123'}\n",
    "acc2 = { 'name':'shyam','bal':15000,'password':'@hello'}\n",
    "acc3 = { 'name':'ghyanshaym','bal':1000,'password':'bye@'}\n",
    "acc4 = { 'name':'radheshyam','bal':12000,'password':'redhat'}\n",
    "\n",
    "db = shelve.open(\"Bank/bank.db\")\n",
    "db['1001'] = acc1\n",
    "db['1002'] = acc2\n",
    "db['1003'] = acc3\n",
    "db['1004'] = acc4 \n",
    "\n",
    "db.close()\n",
    "\n"
   ]
  },
  {
   "cell_type": "code",
   "execution_count": 2,
   "metadata": {},
   "outputs": [],
   "source": [
    "from getpass import getpass\n",
    "def main_menu():\n",
    "    s = \"\"\"1. Login\\n2.Signup\\n3.Exit\"\"\"\n",
    "    print(s)\n",
    "    ch = int(input(\"Enter your Choice : \"))\n",
    "    if ch == 1 :\n",
    "        acc_no = input(\"Enter your acc number : \").strip()\n",
    "        password = getpass(\"Enter your password : \")\n",
    "        if login(acc_no,password) :\n",
    "            menu(acc_no)\n",
    "        else : \n",
    "            main_menu()\n",
    "    elif ch==2:\n",
    "        sign_up()"
   ]
  },
  {
   "cell_type": "code",
   "execution_count": 3,
   "metadata": {},
   "outputs": [],
   "source": [
    "def login(acc_no,password):\n",
    "    db = shelve.open('Bank/bank.db')\n",
    "    data = db.get(acc_no,False)\n",
    "    if data : \n",
    "        if data.get('password') == password :\n",
    "            print(\"Login Sucessfull\")\n",
    "            return True \n",
    "        else : \n",
    "            print(\"Invalid Password\")\n",
    "            print(\"Try Again\")\n",
    "            return False \n",
    "    else : \n",
    "        print(\"Invalid Account Number\")\n",
    "        print(\"If you don't have any account please signup\")\n",
    "        return False\n",
    "    db.close()"
   ]
  },
  {
   "cell_type": "code",
   "execution_count": 4,
   "metadata": {},
   "outputs": [],
   "source": [
    "def menu(acc_no):\n",
    "    s = \"\"\"1. Credit\\n2.Debit\\n3.Check Balance\\n4.Update Password\\n5.exit\"\"\"\n",
    "    print(s)\n",
    "    ch = int(input(\"Enter your choice : \"))\n",
    "    if ch == 4 :\n",
    "        update_password(acc_no)\n",
    "    elif ch==1:\n",
    "        credit(acc_no)\n",
    "    elif ch==2:\n",
    "        debit(acc_no)\n",
    "    elif ch==3:\n",
    "        check_details(acc_no)\n",
    "    print(\"you are at menu of logged in function\")"
   ]
  },
  {
   "cell_type": "code",
   "execution_count": 5,
   "metadata": {},
   "outputs": [],
   "source": [
    "def credit(acc_no):\n",
    "    amount=float(input(\"Enter the amount which you want to credit into your account  :\"))\n",
    "    db = shelve.open('Bank/bank.db',writeback=True)\n",
    "    old_balance=db[acc_no][\"bal\"]\n",
    "    print(old_balance)\n",
    "    new_balance=old_balance+amount\n",
    "    print(new_balance)\n",
    "    db[acc_no][\"bal\"]=new_balance\n",
    "    update=db[acc_no][\"bal\"]\n",
    "    print(\"Your balance is updated.\",update)\n",
    "    db.close()\n",
    "    main_menu()\n",
    "    \n",
    "    \n",
    "    "
   ]
  },
  {
   "cell_type": "code",
   "execution_count": 6,
   "metadata": {},
   "outputs": [],
   "source": [
    "def debit(acc_no):\n",
    "    amount=float(input(\"Enter the amount which you want to debit\"))\n",
    "    db = shelve.open('Bank/bank.db',writeback=True)\n",
    "    old_balance=db[acc_no][\"bal\"]\n",
    "    if old_balance<amount:\n",
    "        print(\"Sorry ! we can not debit that much money from your account\\n due to insufficient balance.\")\n",
    "        debit(acc_no)\n",
    "    else:\n",
    "        new_balance=old_balance-amount\n",
    "        db[acc_no][\"bal\"]=new_balance\n",
    "        print(\"Successfully debited.\")\n",
    "        update=db[acc_no][\"bal\"]\n",
    "        print(\"Your current updated balance is\",update)\n",
    "        db.close()\n",
    "        menu(acc_no)"
   ]
  },
  {
   "cell_type": "code",
   "execution_count": 7,
   "metadata": {},
   "outputs": [],
   "source": [
    "def check_details(acc_no):\n",
    "    db = shelve.open('Bank/bank.db',writeback=True)\n",
    "    details=db[acc_no]\n",
    "    print(f\"Your account details is \\n {details}\")\n",
    "    db.close()\n",
    "    "
   ]
  },
  {
   "cell_type": "code",
   "execution_count": 8,
   "metadata": {},
   "outputs": [],
   "source": [
    "def update_password(acc_no):\n",
    "    p1 = getpass(\"Enter password : \")\n",
    "    p2 = getpass(\"Verify password :\")\n",
    "    if p1 == p2 : \n",
    "        db = shelve.open('Bank/bank.db',writeback=True)\n",
    "        db[acc_no]['password'] = p1\n",
    "        print(\"password sucessfully updated\")\n",
    "        print(\"Please Login Again to verify \")\n",
    "        db.close()\n",
    "        main_menu()\n",
    "    else : \n",
    "        print(\"Password does not match \")\n",
    "        print(\"Try Again\")\n",
    "        update_password(acc_no)\n",
    "        "
   ]
  },
  {
   "cell_type": "code",
   "execution_count": 9,
   "metadata": {},
   "outputs": [],
   "source": [
    "def exit(acc_no):\n",
    "    print(\"Thanks for using our services.\")\n",
    "    main_menu()"
   ]
  },
  {
   "cell_type": "code",
   "execution_count": 10,
   "metadata": {},
   "outputs": [],
   "source": [
    "def Exit():\n",
    "    print(\"Thanks for using our services.\")"
   ]
  },
  {
   "cell_type": "code",
   "execution_count": 11,
   "metadata": {},
   "outputs": [],
   "source": [
    "def sign_up():\n",
    "    \n",
    "    db = shelve.open('Bank/bank.db',writeback=True)\n",
    "    acc_no=int(input(\"Enter your account number \"))\n",
    "    data=list(map(int,db.keys()))\n",
    "    print(data)\n",
    "    if acc_no in data:\n",
    "        print(\"Sorry ! This account number is already exit.\")\n",
    "        print(\"Try Again .\")\n",
    "        sign_up()\n",
    "    else:\n",
    "        print(\"Please enter your details\")\n",
    "        new_user={\n",
    "                'name':input(\"Enter your name.\").strip().lower(),\n",
    "                'bal':int(input(\"Enter your opening balance.\")) ,\n",
    "                'password': input(\"Enter your password.\")\n",
    "            }\n",
    "        db[str(acc_no)]=new_user\n",
    "        db.close()\n",
    "    print(\"your accound is succesfully added.\")\n",
    "    main_menu()\n",
    "    \n",
    "   "
   ]
  },
  {
   "cell_type": "code",
   "execution_count": 13,
   "metadata": {},
   "outputs": [],
   "source": [
    "def admin():\n",
    "    exits_password=\"mai hun don\"\n",
    "    password=input(\"Enter yous password admin : \")\n",
    "    if exits_password==password:\n",
    "        print(\"1.Reset password\\n2.Delete Account\\n3main_menu\")\n",
    "        ch=int(input(\"Enter your choice : \"))\n",
    "        if ch==1:\n",
    "            reset_password()\n",
    "        elif ch==2:\n",
    "            delete_account()\n",
    "        elif ch==3:\n",
    "            main_menu()\n",
    "        else:\n",
    "            print(\"Invalid choice.\")\n",
    "            admin()\n",
    "    else:\n",
    "        print(\"Incorrect Password\")\n",
    "        print(\"Try again .\")\n",
    "        main_menu()\n",
    "        \n",
    "    "
   ]
  },
  {
   "cell_type": "code",
   "execution_count": null,
   "metadata": {},
   "outputs": [],
   "source": [
    "def reset_password():\n",
    "    acc_no=input(\"Enter account number \").strip()\n",
    "    password=input(\"Enter the new password \")\n",
    "    password_2=input(\"Enter the new password again .\")\n",
    "    if password==password_2:\n",
    "        db = shelve.open('Bank/bank.db',writeback=True)\n",
    "        db[acc_no][\"password\"]=password\n",
    "        db.close()\n",
    "        print(\"User's password succesfully change.\")\n",
    "        main_menu()\n",
    "    else:\n",
    "        print(\"Password does not match\\n Please try again !\")\n",
    "        admin()"
   ]
  },
  {
   "cell_type": "code",
   "execution_count": 14,
   "metadata": {},
   "outputs": [],
   "source": [
    "def delete_account():\n",
    "    acc_no=input(\"Enter account number which you want to delete.\").strip()\n",
    "    db = shelve.open('Bank/bank.db',writeback=True)\n",
    "    del db[acc_no]\n",
    "    print(\"Account is deleted\")\n",
    "    db.close()"
   ]
  },
  {
   "cell_type": "code",
   "execution_count": null,
   "metadata": {},
   "outputs": [],
   "source": []
  }
 ],
 "metadata": {
  "kernelspec": {
   "display_name": "Python 3",
   "language": "python",
   "name": "python3"
  },
  "language_info": {
   "codemirror_mode": {
    "name": "ipython",
    "version": 3
   },
   "file_extension": ".py",
   "mimetype": "text/x-python",
   "name": "python",
   "nbconvert_exporter": "python",
   "pygments_lexer": "ipython3",
   "version": "3.6.5"
  }
 },
 "nbformat": 4,
 "nbformat_minor": 2
}
